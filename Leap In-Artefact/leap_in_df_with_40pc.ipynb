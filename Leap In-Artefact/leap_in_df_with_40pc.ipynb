{
 "cells": [
  {
   "cell_type": "markdown",
   "metadata": {},
   "source": [
    "# Our Goal: Merging and data cleansing all Leap In ! files "
   ]
  },
  {
   "cell_type": "markdown",
   "metadata": {},
   "source": [
    "## Files Used:\n",
    "    1. Category_codes.csv\n",
    "    2. Invoices.csv\n",
    "    3. Member_details.csv\n",
    "    4. plan_budgets.csv\n",
    "    5. Postcodes.csv\n",
    "    6. SupportItemMap.csv"
   ]
  },
  {
   "cell_type": "markdown",
   "metadata": {},
   "source": [
    "# Summary of Process: How are we merging ? \n",
    "\n",
    "* Step 1. Merging tables <b><i>Invoices</i> </b>   and <b><i>Category_codes</i> </b>   on \"l3_id\" as \"category_invoice\".\n",
    "* Step 2: Preparing <i><b> Plan_budgets </b></i> to merge with <i> <b> category_invoice </b></i>\n",
    "* Step 3: Preparing <i><b> category_invoice</b></i> to merge with <i> <b>plan_budget_agg</b></i> with 3 conditions provided by Industry Advisor.\n",
    "    1. condition 1: category_invoice.start_date >= Plan_budgets.start_date & category_invoice.end_date <= Plan_budgets.end_date\n",
    "    2. condition 2: category_invoice.membership_number == Plan_budgets.membership_number\n",
    "    3. condition 3: category_invoice.l2_key == Plan_budgets.l2_key\n",
    "* Step 4: Merging Table <b><i> Member_details </i></b> and <b><i> category_invoice_budget</i></b> on column <b><i> membership_number </i> </b>\n",
    "* Step 5: Merging <b><i>SupportItemMap</i></b> table to <b><i>merged table till step 4</i></b>  on \"l3_reference_number\"column.\n",
    "* Step 6: Merging <b><i>Postcodes</i></b> and <b><i>merged table till step 5</i></b> on column \"Id\" and create a final merged table named as <b><i>leap_in_df</i></b>\n",
    "* Step 7: Creating <b>\"spending Behaviours\"</b> column on table <b><i>leap_in_df</i></b> and finally creating <b><i>leap_in_40pc_df</i></b>\n",
    "                                                                                                 "
   ]
  },
  {
   "cell_type": "code",
   "execution_count": 544,
   "metadata": {},
   "outputs": [],
   "source": [
    "# Imporing requied library files\n",
    "import pandas as pd\n",
    "import numpy as np\n",
    "import statistics as stat"
   ]
  },
  {
   "cell_type": "code",
   "execution_count": 545,
   "metadata": {},
   "outputs": [],
   "source": [
    "# path of files located local drive. \n",
    "file_path = \"/Users/ajaymoktan/Desktop/IFN711/Leap In Data/Budget utilisation/Private data/\"\n"
   ]
  },
  {
   "cell_type": "code",
   "execution_count": 546,
   "metadata": {},
   "outputs": [],
   "source": [
    "# Importing all the six files from local Drive as a pands' Dataframe.\n",
    "Category_codes = pd.read_csv(file_path + \"Category_codes.csv\")\n",
    "Invoices = pd.read_csv(file_path + \"Invoices.csv\")\n",
    "Member_details = pd.read_csv(file_path + \"Member_details.csv\")\n",
    "plan_budgets = pd.read_csv(file_path + \"plan_budgets.csv\")\n",
    "Postcodes = pd.read_csv(file_path + \"Postcodes.csv\")\n",
    "SupportItemMap = pd.read_csv(file_path + \"SupportItemMap.csv\")\n"
   ]
  },
  {
   "cell_type": "markdown",
   "metadata": {},
   "source": [
    "# Step 1. Merging tables \"Invoices\" and \"Category_codes\" on \"l3_id\" as \"category_invoice\"."
   ]
  },
  {
   "cell_type": "code",
   "execution_count": 547,
   "metadata": {},
   "outputs": [],
   "source": [
    "# Renaming the column from 'Category_3_id' to  'l3_id'\n",
    "Invoices.rename(columns= {'Category_3_id': 'l3_id'}, inplace =True)"
   ]
  },
  {
   "cell_type": "code",
   "execution_count": 548,
   "metadata": {},
   "outputs": [],
   "source": [
    "category_invoice =  pd.merge(Invoices, Category_codes, \\\n",
    "                                         how='left',\\\n",
    "                                         on='l3_id')"
   ]
  },
  {
   "cell_type": "markdown",
   "metadata": {},
   "source": [
    "#  Step 2: Preprating  Plan_budgets table.\n",
    "\n",
    "* 2.1 Slice \"Plan_budgets\" as \"plan_budgets_l3_key\" that contains l3_key with value.\n",
    "* 2.2 Create \"plan_budget\" with l3_key with no values. It means we are not inluding category l3 funded amount. \n",
    "* 2.3 checking the duplicate rows in \"plan_budget\" based on 'plan_key', 'l2_key' and drop them.\n",
    "* 2.4 plan_budget grouped by \"plan_key\" as \"plan_budget_group\".\n",
    "* 2.5 plan_budget_group is aggregiated as \"plan_budget_agg\" and sum the allocation and rest select first. \n"
   ]
  },
  {
   "cell_type": "markdown",
   "metadata": {},
   "source": [
    "## Step 2.1: Slicing \"plan_budgets\" to extract dataframe containg non null l3_keys only as \"plan_budgets_l3_key\""
   ]
  },
  {
   "cell_type": "code",
   "execution_count": 549,
   "metadata": {},
   "outputs": [],
   "source": [
    "# sorting plan_budgets in descending order based on \"plan_id\" column \n",
    "# so that we get the latest (correct) values first\n",
    "\n",
    "plan_budgets.sort_values(by=['plan_id'], inplace=True, ascending=False)\n",
    "# plan_budgets.head()"
   ]
  },
  {
   "cell_type": "code",
   "execution_count": 550,
   "metadata": {},
   "outputs": [],
   "source": [
    "# plan_budgets_l3_key containing observations that has l3_key\n",
    "plan_budgets_l3_key = plan_budgets[~plan_budgets['l3_key'].isnull()]"
   ]
  },
  {
   "cell_type": "markdown",
   "metadata": {},
   "source": [
    "## Step 2.2: Slicing \"plan_budgets\" to extract dataframe containg Null l3_keys only as \"plan_budget\" (As per business logic provided)"
   ]
  },
  {
   "cell_type": "code",
   "execution_count": 551,
   "metadata": {},
   "outputs": [],
   "source": [
    "# dataframe \"plan_budget\" contains observation that has NULL values as l3_key.\n",
    "plan_budget = plan_budgets[plan_budgets['l3_key'].isnull()]"
   ]
  },
  {
   "cell_type": "code",
   "execution_count": 552,
   "metadata": {},
   "outputs": [
    {
     "data": {
      "text/html": [
       "<div>\n",
       "<style scoped>\n",
       "    .dataframe tbody tr th:only-of-type {\n",
       "        vertical-align: middle;\n",
       "    }\n",
       "\n",
       "    .dataframe tbody tr th {\n",
       "        vertical-align: top;\n",
       "    }\n",
       "\n",
       "    .dataframe thead th {\n",
       "        text-align: right;\n",
       "    }\n",
       "</style>\n",
       "<table border=\"1\" class=\"dataframe\">\n",
       "  <thead>\n",
       "    <tr style=\"text-align: right;\">\n",
       "      <th></th>\n",
       "      <th>plan_id</th>\n",
       "      <th>plan_key</th>\n",
       "      <th>plan_start_date</th>\n",
       "      <th>plan_end_date</th>\n",
       "      <th>member_key</th>\n",
       "      <th>allocation</th>\n",
       "      <th>l2_key</th>\n",
       "      <th>l3_key</th>\n",
       "      <th>membership_number</th>\n",
       "    </tr>\n",
       "  </thead>\n",
       "  <tbody>\n",
       "    <tr>\n",
       "      <th>19312</th>\n",
       "      <td>101502</td>\n",
       "      <td>e60f7e00-c179-11ea-8daf-e7e742291ebd</td>\n",
       "      <td>2020-04-01</td>\n",
       "      <td>2021-04-07</td>\n",
       "      <td>d9d68660-c179-11ea-8a11-397bdc21f5a9</td>\n",
       "      <td>0.0</td>\n",
       "      <td>7d0af52b-f597-11e9-bfb4-022d4762bb3c</td>\n",
       "      <td>NaN</td>\n",
       "      <td>11810329</td>\n",
       "    </tr>\n",
       "    <tr>\n",
       "      <th>19311</th>\n",
       "      <td>101501</td>\n",
       "      <td>e60f7e00-c179-11ea-8daf-e7e742291ebd</td>\n",
       "      <td>2020-04-01</td>\n",
       "      <td>2021-04-07</td>\n",
       "      <td>d9d68660-c179-11ea-8a11-397bdc21f5a9</td>\n",
       "      <td>0.0</td>\n",
       "      <td>7d0af53b-f597-11e9-bfb4-022d4762bb3c</td>\n",
       "      <td>NaN</td>\n",
       "      <td>11810329</td>\n",
       "    </tr>\n",
       "  </tbody>\n",
       "</table>\n",
       "</div>"
      ],
      "text/plain": [
       "       plan_id                              plan_key plan_start_date  \\\n",
       "19312   101502  e60f7e00-c179-11ea-8daf-e7e742291ebd      2020-04-01   \n",
       "19311   101501  e60f7e00-c179-11ea-8daf-e7e742291ebd      2020-04-01   \n",
       "\n",
       "      plan_end_date                            member_key  allocation  \\\n",
       "19312    2021-04-07  d9d68660-c179-11ea-8a11-397bdc21f5a9         0.0   \n",
       "19311    2021-04-07  d9d68660-c179-11ea-8a11-397bdc21f5a9         0.0   \n",
       "\n",
       "                                     l2_key l3_key  membership_number  \n",
       "19312  7d0af52b-f597-11e9-bfb4-022d4762bb3c    NaN           11810329  \n",
       "19311  7d0af53b-f597-11e9-bfb4-022d4762bb3c    NaN           11810329  "
      ]
     },
     "execution_count": 552,
     "metadata": {},
     "output_type": "execute_result"
    }
   ],
   "source": [
    "plan_budget.head(2)"
   ]
  },
  {
   "cell_type": "markdown",
   "metadata": {},
   "source": [
    "## Step 2.3: Chekcing the Duplicate rows in \"plan_budget\" table based on 'plan_key', 'l2_key' and dropping them "
   ]
  },
  {
   "cell_type": "code",
   "execution_count": 553,
   "metadata": {},
   "outputs": [
    {
     "data": {
      "text/plain": [
       "21461"
      ]
     },
     "execution_count": 553,
     "metadata": {},
     "output_type": "execute_result"
    }
   ],
   "source": [
    "# checking duplicate based on 'plan_key', 'l2_key'\n",
    "plan_budget.duplicated(subset=['plan_key', 'l2_key']).sum()"
   ]
  },
  {
   "cell_type": "code",
   "execution_count": 554,
   "metadata": {},
   "outputs": [],
   "source": [
    "# Dropping the duplicate values found.\n",
    "plan_budget = plan_budget.drop_duplicates(subset=['plan_key', 'l2_key'], keep = 'first')"
   ]
  },
  {
   "cell_type": "code",
   "execution_count": 555,
   "metadata": {},
   "outputs": [],
   "source": [
    "# plan_budget.head()"
   ]
  },
  {
   "cell_type": "markdown",
   "metadata": {},
   "source": [
    "## Step 2.4: Now the \"plan_budget\" is grouped by column \"plan_key\""
   ]
  },
  {
   "cell_type": "code",
   "execution_count": 556,
   "metadata": {},
   "outputs": [],
   "source": [
    "# Dropping column l3_key \n",
    "plan_budget.drop('l3_key', axis=1, inplace=True)\n"
   ]
  },
  {
   "cell_type": "code",
   "execution_count": 557,
   "metadata": {},
   "outputs": [],
   "source": [
    "# grouping the plan_budget table on plan_key\n",
    "plan_budget_group = plan_budget.groupby('plan_key')"
   ]
  },
  {
   "cell_type": "code",
   "execution_count": 558,
   "metadata": {},
   "outputs": [],
   "source": [
    "# plan_budget_group.apply(print)"
   ]
  },
  {
   "cell_type": "markdown",
   "metadata": {},
   "source": [
    "## Step 2.5: Aggregating plan_budget_group as \"plan_budget_agg\" to calcuate sum of allocation and only take first row of rest of the columns."
   ]
  },
  {
   "cell_type": "code",
   "execution_count": 559,
   "metadata": {},
   "outputs": [],
   "source": [
    "# Aggregating the \"plan_budget_group\" and naming as \"plan_budget_agg\"\n",
    "plan_budget_agg = plan_budget_group.agg({'plan_id': 'first', 'plan_start_date': 'first', 'plan_end_date': 'first', 'member_key': 'first', 'allocation': 'sum', 'l2_key'\\\n",
    "                      : 'first', 'membership_number': 'first'})\n",
    "\n"
   ]
  },
  {
   "cell_type": "code",
   "execution_count": 560,
   "metadata": {},
   "outputs": [
    {
     "data": {
      "text/html": [
       "<div>\n",
       "<style scoped>\n",
       "    .dataframe tbody tr th:only-of-type {\n",
       "        vertical-align: middle;\n",
       "    }\n",
       "\n",
       "    .dataframe tbody tr th {\n",
       "        vertical-align: top;\n",
       "    }\n",
       "\n",
       "    .dataframe thead th {\n",
       "        text-align: right;\n",
       "    }\n",
       "</style>\n",
       "<table border=\"1\" class=\"dataframe\">\n",
       "  <thead>\n",
       "    <tr style=\"text-align: right;\">\n",
       "      <th></th>\n",
       "      <th>plan_key</th>\n",
       "      <th>plan_id</th>\n",
       "      <th>plan_start_date</th>\n",
       "      <th>plan_end_date</th>\n",
       "      <th>member_key</th>\n",
       "      <th>allocation</th>\n",
       "      <th>l2_key</th>\n",
       "      <th>membership_number</th>\n",
       "    </tr>\n",
       "  </thead>\n",
       "  <tbody>\n",
       "    <tr>\n",
       "      <th>0</th>\n",
       "      <td>00001ea0-d23c-11ea-ad9d-c9ee3068ede7</td>\n",
       "      <td>23374</td>\n",
       "      <td>2020-03-31</td>\n",
       "      <td>2020-08-17</td>\n",
       "      <td>fc567790-d23b-11ea-a13a-d188ddbdc773</td>\n",
       "      <td>47445.55</td>\n",
       "      <td>7d0af53b-f597-11e9-bfb4-022d4762bb3c</td>\n",
       "      <td>314530517</td>\n",
       "    </tr>\n",
       "    <tr>\n",
       "      <th>1</th>\n",
       "      <td>0003fb30-c7f4-11ea-b247-07c902e1140e</td>\n",
       "      <td>5218</td>\n",
       "      <td>2019-12-17</td>\n",
       "      <td>2020-10-07</td>\n",
       "      <td>f63dff60-c7f3-11ea-baa6-ebfe92aca975</td>\n",
       "      <td>236423.38</td>\n",
       "      <td>7d0af57b-f597-11e9-bfb4-022d4762bb3c</td>\n",
       "      <td>984933966</td>\n",
       "    </tr>\n",
       "  </tbody>\n",
       "</table>\n",
       "</div>"
      ],
      "text/plain": [
       "                               plan_key  plan_id plan_start_date  \\\n",
       "0  00001ea0-d23c-11ea-ad9d-c9ee3068ede7    23374      2020-03-31   \n",
       "1  0003fb30-c7f4-11ea-b247-07c902e1140e     5218      2019-12-17   \n",
       "\n",
       "  plan_end_date                            member_key  allocation  \\\n",
       "0    2020-08-17  fc567790-d23b-11ea-a13a-d188ddbdc773    47445.55   \n",
       "1    2020-10-07  f63dff60-c7f3-11ea-baa6-ebfe92aca975   236423.38   \n",
       "\n",
       "                                 l2_key  membership_number  \n",
       "0  7d0af53b-f597-11e9-bfb4-022d4762bb3c          314530517  \n",
       "1  7d0af57b-f597-11e9-bfb4-022d4762bb3c          984933966  "
      ]
     },
     "execution_count": 560,
     "metadata": {},
     "output_type": "execute_result"
    }
   ],
   "source": [
    "# Converting \"plan_budget_agg\" to pandas dataframe\n",
    "plan_budget_agg.reset_index(inplace=True)\n",
    "\n",
    "#checking the output\n",
    "plan_budget_agg.head(2)"
   ]
  },
  {
   "cell_type": "markdown",
   "metadata": {},
   "source": [
    "# Step 3: Preparing table \"category_invoice\" to merge with \"plan_budget_agg\" wtih the following 3 conditions:\n",
    "\n",
    "* <i><b> condition 1:</b> </i> Condition 1 should be category_invoice.start_date >= plan_buget_agg.start_date & category_invoice.end_date <= plan_budget_agg.end_date\n",
    "\n",
    "* <i><b>condition 2:</b></i> category_invoice.membership_number == plan_budget_agg.membership_number\n",
    "\n",
    "* <i><b>condition 3:</b></i> category_invoice.l2_key == plan_budget_agg.l2_key\n",
    "\n",
    "    * Step 3.1: Using condition 2 and 3, merging the tables category_invoice and plan_budget_agg on l2_key and membership_number as \"category_invoice_budget\". \n",
    "    * Step 3.2: Applying condition 1 to filter out the dataframe \"category_invoice_budget\" \n",
    "\n",
    "\n"
   ]
  },
  {
   "cell_type": "markdown",
   "metadata": {},
   "source": [
    "### Converting date into tamestamp to compare dates"
   ]
  },
  {
   "cell_type": "code",
   "execution_count": 561,
   "metadata": {},
   "outputs": [],
   "source": [
    "# converting to datatime datatype\n",
    "plan_budget_agg[['plan_start_date', 'plan_end_date']] = plan_budget_agg[['plan_start_date', 'plan_end_date']].apply(pd.to_datetime)\n",
    "category_invoice[['start_date', 'end_date']] = category_invoice[['start_date', 'end_date']].apply(pd.to_datetime)\n",
    "\n"
   ]
  },
  {
   "cell_type": "markdown",
   "metadata": {},
   "source": [
    "#### Step 3.1: Using condition 2 and 3, merging the tables category_invoice and plan_budget_agg on l2_key and membership_number"
   ]
  },
  {
   "cell_type": "code",
   "execution_count": 562,
   "metadata": {},
   "outputs": [],
   "source": [
    "# Merging the table using condition 2 and 3. \n",
    "category_invoice_budget =  pd.merge(category_invoice, plan_budget_agg, \\\n",
    "                                         how='inner',\\\n",
    "                                         on=['membership_number','l2_key'])\n"
   ]
  },
  {
   "cell_type": "markdown",
   "metadata": {},
   "source": [
    "## Step 3.2: Applying condition 1 to filter out the dataframe \"category_invoice_budget\""
   ]
  },
  {
   "cell_type": "code",
   "execution_count": 563,
   "metadata": {},
   "outputs": [],
   "source": [
    "# filter_condtion = condition 1\n",
    "filter_condition = (category_invoice_budget.start_date >= category_invoice_budget.plan_start_date) & \\\n",
    "(category_invoice_budget.end_date <= category_invoice_budget.plan_end_date)\n",
    "\n",
    "# Applying filter_condtion on the category_invoice_budget\n",
    "category_invoice_budget = category_invoice_budget.loc[filter_condition]"
   ]
  },
  {
   "cell_type": "code",
   "execution_count": 564,
   "metadata": {},
   "outputs": [
    {
     "data": {
      "text/plain": [
       "(146026, 24)"
      ]
     },
     "execution_count": 564,
     "metadata": {},
     "output_type": "execute_result"
    }
   ],
   "source": [
    "# Checking the shape of the table.\n",
    "category_invoice_budget.shape"
   ]
  },
  {
   "cell_type": "markdown",
   "metadata": {},
   "source": [
    "# Step 4: Merging Table \"Member_details \" and \"category_invoice_budget \" on column \" membership_number\" as \"category_invoice_budget_member\".\n",
    "\n",
    "* <b>Step 4.1 </b> From \"category_invoice_budget_member\" it is found that the members which has member_exit_date (206 members) but only 22 members were exited before the plan ends and they were removed from \"category_invoice_budget_member\" table. \"category_invoice_budget_member_cleaned\" table is created after removing exited members. \n",
    "\n"
   ]
  },
  {
   "cell_type": "markdown",
   "metadata": {},
   "source": [
    "### Converting column name 'NDIS_Number' to  'membership_number' of  \"Member_details \" table"
   ]
  },
  {
   "cell_type": "code",
   "execution_count": 565,
   "metadata": {},
   "outputs": [],
   "source": [
    "# Renaming the column name from'NDIS_Number'to 'membership_number'as they mean same. \n",
    "Member_details.rename(columns= {'NDIS_Number': 'membership_number'}, inplace =True)"
   ]
  },
  {
   "cell_type": "code",
   "execution_count": 566,
   "metadata": {},
   "outputs": [],
   "source": [
    "# Merging the tables category_invoice_budget and  Member_details\n",
    "category_invoice_budget_member = pd.merge(category_invoice_budget, Member_details, \\\n",
    "                                         how = 'inner', on = 'membership_number')\n"
   ]
  },
  {
   "cell_type": "code",
   "execution_count": 567,
   "metadata": {},
   "outputs": [
    {
     "name": "stdout",
     "output_type": "stream",
     "text": [
      "(146026, 24) (145967, 28)\n"
     ]
    }
   ],
   "source": [
    "print(category_invoice_budget.shape, category_invoice_budget_member.shape)"
   ]
  },
  {
   "cell_type": "markdown",
   "metadata": {},
   "source": [
    "## Step 4.1: Preparing \"category_invoice_budget_member\" table:\n",
    "* <b> Dropping all the rows associated with the members who have exited before the end of plan. "
   ]
  },
  {
   "cell_type": "code",
   "execution_count": 568,
   "metadata": {},
   "outputs": [],
   "source": [
    "# subset of the dataset \"category_invoice_budget_member\" with member exit date. \n",
    "\n",
    "member_exit_df = category_invoice_budget_member[['membership_number', 'plan_start_date', 'plan_end_date', 'Member_exit_date']]\n"
   ]
  },
  {
   "cell_type": "code",
   "execution_count": 569,
   "metadata": {},
   "outputs": [
    {
     "data": {
      "text/html": [
       "<div>\n",
       "<style scoped>\n",
       "    .dataframe tbody tr th:only-of-type {\n",
       "        vertical-align: middle;\n",
       "    }\n",
       "\n",
       "    .dataframe tbody tr th {\n",
       "        vertical-align: top;\n",
       "    }\n",
       "\n",
       "    .dataframe thead th {\n",
       "        text-align: right;\n",
       "    }\n",
       "</style>\n",
       "<table border=\"1\" class=\"dataframe\">\n",
       "  <thead>\n",
       "    <tr style=\"text-align: right;\">\n",
       "      <th></th>\n",
       "      <th>membership_number</th>\n",
       "      <th>plan_start_date</th>\n",
       "      <th>plan_end_date</th>\n",
       "      <th>Member_exit_date</th>\n",
       "    </tr>\n",
       "  </thead>\n",
       "  <tbody>\n",
       "    <tr>\n",
       "      <th>0</th>\n",
       "      <td>484394812</td>\n",
       "      <td>2019-08-15</td>\n",
       "      <td>2020-07-15</td>\n",
       "      <td>26/11/2020 0:00</td>\n",
       "    </tr>\n",
       "    <tr>\n",
       "      <th>1</th>\n",
       "      <td>484394812</td>\n",
       "      <td>2019-08-15</td>\n",
       "      <td>2020-07-15</td>\n",
       "      <td>26/11/2020 0:00</td>\n",
       "    </tr>\n",
       "    <tr>\n",
       "      <th>2</th>\n",
       "      <td>484394812</td>\n",
       "      <td>2019-08-15</td>\n",
       "      <td>2020-07-15</td>\n",
       "      <td>26/11/2020 0:00</td>\n",
       "    </tr>\n",
       "    <tr>\n",
       "      <th>3</th>\n",
       "      <td>484394812</td>\n",
       "      <td>2019-08-15</td>\n",
       "      <td>2020-07-15</td>\n",
       "      <td>26/11/2020 0:00</td>\n",
       "    </tr>\n",
       "    <tr>\n",
       "      <th>4</th>\n",
       "      <td>484394812</td>\n",
       "      <td>2019-08-15</td>\n",
       "      <td>2020-07-15</td>\n",
       "      <td>26/11/2020 0:00</td>\n",
       "    </tr>\n",
       "    <tr>\n",
       "      <th>...</th>\n",
       "      <td>...</td>\n",
       "      <td>...</td>\n",
       "      <td>...</td>\n",
       "      <td>...</td>\n",
       "    </tr>\n",
       "    <tr>\n",
       "      <th>144567</th>\n",
       "      <td>182493529</td>\n",
       "      <td>2020-10-01</td>\n",
       "      <td>2020-11-26</td>\n",
       "      <td>26/3/2021 0:00</td>\n",
       "    </tr>\n",
       "    <tr>\n",
       "      <th>144595</th>\n",
       "      <td>96661094</td>\n",
       "      <td>2020-09-22</td>\n",
       "      <td>2020-12-21</td>\n",
       "      <td>28/1/2021 0:00</td>\n",
       "    </tr>\n",
       "    <tr>\n",
       "      <th>144596</th>\n",
       "      <td>96661094</td>\n",
       "      <td>2020-09-22</td>\n",
       "      <td>2020-12-21</td>\n",
       "      <td>28/1/2021 0:00</td>\n",
       "    </tr>\n",
       "    <tr>\n",
       "      <th>144597</th>\n",
       "      <td>96661094</td>\n",
       "      <td>2020-09-22</td>\n",
       "      <td>2020-12-21</td>\n",
       "      <td>28/1/2021 0:00</td>\n",
       "    </tr>\n",
       "    <tr>\n",
       "      <th>145849</th>\n",
       "      <td>443413957</td>\n",
       "      <td>2021-01-25</td>\n",
       "      <td>2021-02-10</td>\n",
       "      <td>26/2/2021 0:00</td>\n",
       "    </tr>\n",
       "  </tbody>\n",
       "</table>\n",
       "<p>9125 rows × 4 columns</p>\n",
       "</div>"
      ],
      "text/plain": [
       "        membership_number plan_start_date plan_end_date Member_exit_date\n",
       "0               484394812      2019-08-15    2020-07-15  26/11/2020 0:00\n",
       "1               484394812      2019-08-15    2020-07-15  26/11/2020 0:00\n",
       "2               484394812      2019-08-15    2020-07-15  26/11/2020 0:00\n",
       "3               484394812      2019-08-15    2020-07-15  26/11/2020 0:00\n",
       "4               484394812      2019-08-15    2020-07-15  26/11/2020 0:00\n",
       "...                   ...             ...           ...              ...\n",
       "144567          182493529      2020-10-01    2020-11-26   26/3/2021 0:00\n",
       "144595           96661094      2020-09-22    2020-12-21   28/1/2021 0:00\n",
       "144596           96661094      2020-09-22    2020-12-21   28/1/2021 0:00\n",
       "144597           96661094      2020-09-22    2020-12-21   28/1/2021 0:00\n",
       "145849          443413957      2021-01-25    2021-02-10   26/2/2021 0:00\n",
       "\n",
       "[9125 rows x 4 columns]"
      ]
     },
     "execution_count": 569,
     "metadata": {},
     "output_type": "execute_result"
    }
   ],
   "source": [
    "# from member_exit_df extracting only those rows that has memberexit date in the column \"member_exit_date\"\n",
    "member_exit = member_exit_df[~member_exit_df['Member_exit_date'].isnull()]\n",
    "member_exit"
   ]
  },
  {
   "cell_type": "code",
   "execution_count": 570,
   "metadata": {},
   "outputs": [
    {
     "name": "stderr",
     "output_type": "stream",
     "text": [
      "/opt/anaconda3/lib/python3.7/site-packages/ipykernel_launcher.py:2: SettingWithCopyWarning: \n",
      "A value is trying to be set on a copy of a slice from a DataFrame.\n",
      "Try using .loc[row_indexer,col_indexer] = value instead\n",
      "\n",
      "See the caveats in the documentation: https://pandas.pydata.org/pandas-docs/stable/user_guide/indexing.html#returning-a-view-versus-a-copy\n",
      "  \n"
     ]
    }
   ],
   "source": [
    "# converting datatype to datetime datatype of Member_exit_date column.\n",
    "member_exit['Member_exit_date'] = member_exit['Member_exit_date'].apply(pd.to_datetime)"
   ]
  },
  {
   "cell_type": "code",
   "execution_count": 571,
   "metadata": {},
   "outputs": [],
   "source": [
    "# grouping the member_exit table by 'membership_number' to fine the membership number\n",
    "member_exit_group = member_exit.groupby('membership_number')"
   ]
  },
  {
   "cell_type": "code",
   "execution_count": 572,
   "metadata": {},
   "outputs": [],
   "source": [
    "# member_exit_group.get_group(993412941)"
   ]
  },
  {
   "cell_type": "code",
   "execution_count": 573,
   "metadata": {},
   "outputs": [],
   "source": [
    "# member_exit_group is aggregiated and named as member_exit_agg\n",
    "member_exit_agg = member_exit_group.agg({'plan_start_date':'first', 'plan_end_date':'first', 'Member_exit_date':'first'})\n",
    "\n",
    "\n",
    "\n"
   ]
  },
  {
   "cell_type": "code",
   "execution_count": 574,
   "metadata": {},
   "outputs": [],
   "source": [
    "# creating member_exited dataframe.\n",
    "member_exited = member_exit_agg.reset_index()"
   ]
  },
  {
   "cell_type": "code",
   "execution_count": 575,
   "metadata": {},
   "outputs": [],
   "source": [
    "#finding out Members who exited before plan ended on \"member_exited\" table\n",
    "#which means: Member_exit_date < plan_end_date\n",
    "member_exit1 = member_exited.loc[member_exited.Member_exit_date < member_exited.plan_end_date]"
   ]
  },
  {
   "cell_type": "code",
   "execution_count": 576,
   "metadata": {},
   "outputs": [
    {
     "data": {
      "text/plain": [
       "(22, 4)"
      ]
     },
     "execution_count": 576,
     "metadata": {},
     "output_type": "execute_result"
    }
   ],
   "source": [
    "member_exit1.shape"
   ]
  },
  {
   "cell_type": "code",
   "execution_count": 577,
   "metadata": {},
   "outputs": [
    {
     "data": {
      "text/plain": [
       "0       12171458\n",
       "9       44373247\n",
       "17      78177238\n",
       "20      81951320\n",
       "32     143165743\n",
       "60     293600120\n",
       "67     328360347\n",
       "69     329626850\n",
       "70     336279820\n",
       "75     376167104\n",
       "83     398872647\n",
       "90     427747947\n",
       "105    503921371\n",
       "110    519724712\n",
       "133    632942145\n",
       "140    680067331\n",
       "142    693001963\n",
       "143    699619325\n",
       "145    701058767\n",
       "166    795741481\n",
       "172    832612550\n",
       "202    961495989\n",
       "Name: membership_number, dtype: int64"
      ]
     },
     "execution_count": 577,
     "metadata": {},
     "output_type": "execute_result"
    }
   ],
   "source": [
    "# Finally finding out the list of membership numbers who exited before plan ended. \n",
    "member_exited_list = member_exit1.membership_number\n",
    "member_exited_list"
   ]
  },
  {
   "cell_type": "markdown",
   "metadata": {},
   "source": [
    "####  Hence, \"member_exited_list\" is the list of members (22 members ) who exited before the plan ended and we will remove all the records of those members from main table \"category_invoice_budget_member\" in the following steps. "
   ]
  },
  {
   "cell_type": "code",
   "execution_count": 578,
   "metadata": {},
   "outputs": [],
   "source": [
    "# Keeping only the record of members that are not in the member exited list. \n",
    "category_invoice_budget_member_cleaned = \\\n",
    "category_invoice_budget_member[~category_invoice_budget_member['membership_number'].isin(member_exited)]"
   ]
  },
  {
   "cell_type": "code",
   "execution_count": 579,
   "metadata": {},
   "outputs": [
    {
     "data": {
      "text/plain": [
       "(145967, 28)"
      ]
     },
     "execution_count": 579,
     "metadata": {},
     "output_type": "execute_result"
    }
   ],
   "source": [
    "# checking the shape of the table so far. \n",
    "category_invoice_budget_member_cleaned.shape"
   ]
  },
  {
   "cell_type": "code",
   "execution_count": 580,
   "metadata": {},
   "outputs": [],
   "source": [
    "# Since we do not need columns 'plan_id'and 'Member_exit_date' we are dropping them here. \n",
    "category_invoice_budget_member_cleaned = \\\n",
    "category_invoice_budget_member_cleaned.drop(columns = {'plan_id', 'Member_exit_date'})"
   ]
  },
  {
   "cell_type": "code",
   "execution_count": 581,
   "metadata": {},
   "outputs": [
    {
     "data": {
      "text/plain": [
       "(145967, 26)"
      ]
     },
     "execution_count": 581,
     "metadata": {},
     "output_type": "execute_result"
    }
   ],
   "source": [
    "category_invoice_budget_member_cleaned.shape"
   ]
  },
  {
   "cell_type": "markdown",
   "metadata": {},
   "source": [
    "# Step 5: Merging SupportItemMap table to \"category_invoice_budget_member_cleaned table on \"l3_reference_number\".\n",
    "\n",
    "* <b>Step 5.1: </b> Getting rid of frequency column with labels \"Short-term\" and \"One-off\" from SupportItemMap(as per business logic provided)\n",
    "\n",
    "* <b>step 5.2:</b> \"category_invoice_budget_member_support\" is created after merging.\n"
   ]
  },
  {
   "cell_type": "code",
   "execution_count": 582,
   "metadata": {},
   "outputs": [
    {
     "data": {
      "text/html": [
       "<div>\n",
       "<style scoped>\n",
       "    .dataframe tbody tr th:only-of-type {\n",
       "        vertical-align: middle;\n",
       "    }\n",
       "\n",
       "    .dataframe tbody tr th {\n",
       "        vertical-align: top;\n",
       "    }\n",
       "\n",
       "    .dataframe thead th {\n",
       "        text-align: right;\n",
       "    }\n",
       "</style>\n",
       "<table border=\"1\" class=\"dataframe\">\n",
       "  <thead>\n",
       "    <tr style=\"text-align: right;\">\n",
       "      <th></th>\n",
       "      <th>reference_number</th>\n",
       "      <th>name</th>\n",
       "      <th>uom</th>\n",
       "      <th>registration_group</th>\n",
       "      <th>frequency</th>\n",
       "    </tr>\n",
       "  </thead>\n",
       "  <tbody>\n",
       "    <tr>\n",
       "      <th>0</th>\n",
       "      <td>01_001_0101_1_1</td>\n",
       "      <td>Transitional Support</td>\n",
       "      <td>EA</td>\n",
       "      <td>Accommodation / Tenancy Assistance</td>\n",
       "      <td>Short-term</td>\n",
       "    </tr>\n",
       "    <tr>\n",
       "      <th>1</th>\n",
       "      <td>05_090000155_0103_1_2</td>\n",
       "      <td>AT Rental Products for Personal Care and Safety</td>\n",
       "      <td>EA</td>\n",
       "      <td>Assist Prod-Pers Care/Safety</td>\n",
       "      <td>Either</td>\n",
       "    </tr>\n",
       "  </tbody>\n",
       "</table>\n",
       "</div>"
      ],
      "text/plain": [
       "        reference_number                                             name uom  \\\n",
       "0        01_001_0101_1_1                             Transitional Support  EA   \n",
       "1  05_090000155_0103_1_2  AT Rental Products for Personal Care and Safety  EA   \n",
       "\n",
       "                   registration_group   frequency  \n",
       "0  Accommodation / Tenancy Assistance  Short-term  \n",
       "1        Assist Prod-Pers Care/Safety      Either  "
      ]
     },
     "execution_count": 582,
     "metadata": {},
     "output_type": "execute_result"
    }
   ],
   "source": [
    "SupportItemMap.head(2)"
   ]
  },
  {
   "cell_type": "markdown",
   "metadata": {},
   "source": [
    "####  Renaming reference_number to l3_reference_number on table SupportItemMap"
   ]
  },
  {
   "cell_type": "code",
   "execution_count": 583,
   "metadata": {},
   "outputs": [],
   "source": [
    "# Renaming the column 'reference_number'to'l3_reference_number'\n",
    "SupportItemMap.rename(columns={'reference_number':'l3_reference_number'}, inplace = True)"
   ]
  },
  {
   "cell_type": "markdown",
   "metadata": {},
   "source": [
    "### Step 5.1: Getting rid of frequency column with labels \"Short-term\" and \"One-off\" "
   ]
  },
  {
   "cell_type": "code",
   "execution_count": 584,
   "metadata": {},
   "outputs": [],
   "source": [
    "SupportItemMap1 = SupportItemMap[(SupportItemMap['frequency']!= \"Short-term\")]"
   ]
  },
  {
   "cell_type": "code",
   "execution_count": 585,
   "metadata": {},
   "outputs": [],
   "source": [
    "support_item = SupportItemMap1[SupportItemMap1['frequency']!= \"One-off\"]"
   ]
  },
  {
   "cell_type": "markdown",
   "metadata": {},
   "source": [
    "### Step 5.2: Support_item with only \"Recurring\" and \"Either\" is ready to be merged with table \"category_invoice_budget_member_cleaned\" on column \"l3_reference_number\""
   ]
  },
  {
   "cell_type": "code",
   "execution_count": 586,
   "metadata": {},
   "outputs": [],
   "source": [
    "# Merging the tables category_invoice_budget_member_cleaned and support_item on column l3_reference_number\n",
    "category_invoice_budget_member_support = pd.merge(category_invoice_budget_member_cleaned, support_item,\\\n",
    "                                                 how = 'inner',\\\n",
    "                                                 on = 'l3_reference_number')"
   ]
  },
  {
   "cell_type": "code",
   "execution_count": 587,
   "metadata": {},
   "outputs": [
    {
     "data": {
      "text/plain": [
       "(86621, 30)"
      ]
     },
     "execution_count": 587,
     "metadata": {},
     "output_type": "execute_result"
    }
   ],
   "source": [
    "# checking the shape of the column\n",
    "category_invoice_budget_member_support.shape"
   ]
  },
  {
   "cell_type": "markdown",
   "metadata": {},
   "source": [
    "# Step 6: Merging table \"Postcodes\" and \"category_invoice_budget_member_support\" on column \"Id\" as \"leap_in_df\""
   ]
  },
  {
   "cell_type": "code",
   "execution_count": 588,
   "metadata": {},
   "outputs": [],
   "source": [
    "# Merging the tables category_invoice_budget_member_support and Postcodes on column Id and \n",
    "# Creating the final merged file name as leap_in_df. \n",
    "leap_in_df = pd.merge(category_invoice_budget_member_support, Postcodes,\\\n",
    "                     how = 'left',\n",
    "                     on = 'Id')"
   ]
  },
  {
   "cell_type": "code",
   "execution_count": 589,
   "metadata": {},
   "outputs": [
    {
     "data": {
      "text/plain": [
       "(88314, 31)"
      ]
     },
     "execution_count": 589,
     "metadata": {},
     "output_type": "execute_result"
    }
   ],
   "source": [
    "# checking the shape of the final merged file. \n",
    "leap_in_df.shape"
   ]
  },
  {
   "cell_type": "markdown",
   "metadata": {},
   "source": [
    "# Step 7 : Creating spending Behaviours column on table \"leap_in_df\"\n",
    "\n",
    "## Steps for calculating Sepnding Behaviours:\n",
    "#### <i>7.1 : calculate plan period ( plan_end_date - plan_start_date ) and add as a new column as \"plan_period\".</i>\n",
    "#### <i>7.2: Dataframe is groupby 'plan_key','l2_key','membership_number' and 'frequency' columns. </i>\n",
    "#### <i>7.3: Aggregiate the groupby-dataframe and convert it into dataframe.</i>\n",
    "#### <i>7.4: Columns used to calculate Spending behaviours are: \"funded_amount\", \"allocation\", \"plan_period_days\", \"frequency\". </i>\n",
    "#### <i>7.5: As per Business logic provided: </i>\n",
    "#### <i>7.5.1:under \"frequency\" column, Recurring = Regular and Either = Episodic </i>\n",
    "#### <i>7.5.2: dollar value spent = totalfunded_amount, dollar value available  = allocation - total funded_mount, plan period = plan_period_days, plan progress = number of days since plan start </i>\n",
    "#### <i> Since there is a variance in plan_period ( starting form 0 plan period) the ratio of (plan progress in days / plan period ) = 0.4 is agreed to be proceed with. which is 40% through the total plan period to calculate plan progress date which in turn is used to determine plan progress. </i> "
   ]
  },
  {
   "cell_type": "markdown",
   "metadata": {},
   "source": [
    "\n",
    "### <i>7.1 : calculate plan period ( plan_end_date - plan_start_date ) and add as a new column as \"plan_period\".</i>"
   ]
  },
  {
   "cell_type": "code",
   "execution_count": 590,
   "metadata": {},
   "outputs": [],
   "source": [
    "# calculating plan_period \n",
    "leap_in_df['plan_period'] = (leap_in_df['plan_end_date']- leap_in_df['plan_start_date'])\n",
    "\n",
    "#converting plan_period into int16. \n",
    "\n",
    "leap_in_df['plan_period'] = leap_in_df['plan_period'].dt.days.astype('int16')"
   ]
  },
  {
   "cell_type": "markdown",
   "metadata": {},
   "source": [
    "### 7.1.1 Dropping all the rows with plan_period < 30 days as adviced by Industry Supervisor."
   ]
  },
  {
   "cell_type": "code",
   "execution_count": 591,
   "metadata": {},
   "outputs": [
    {
     "data": {
      "text/plain": [
       "(87924, 32)"
      ]
     },
     "execution_count": 591,
     "metadata": {},
     "output_type": "execute_result"
    }
   ],
   "source": [
    "# keeping only those members/plans that have plan period of 7 and greater. \n",
    "leap_in_df.drop(leap_in_df[leap_in_df['plan_period'] < 30].index,inplace = True)\n",
    "leap_in_df.shape"
   ]
  },
  {
   "cell_type": "markdown",
   "metadata": {},
   "source": [
    "### 7.1.2 create new column \"plan_progress_40pc\" which is (0.4 * plan_period) "
   ]
  },
  {
   "cell_type": "code",
   "execution_count": 592,
   "metadata": {},
   "outputs": [],
   "source": [
    "# calculate 40% of the plan period and converting into integer value to avoid decial values. \n",
    "leap_in_df['plan_progress_40pc'] = leap_in_df['plan_period']*0.4\n",
    "\n",
    "# converting into datatype datatype.\n",
    "leap_in_df['plan_progress_40pc'] =leap_in_df['plan_progress_40pc'].astype('int16')"
   ]
  },
  {
   "cell_type": "markdown",
   "metadata": {},
   "source": [
    "### 7.1.3 create new column \"plan_progress_40pc_date\" which is ( plan_progress_40pc+ plan_start_date) "
   ]
  },
  {
   "cell_type": "code",
   "execution_count": 593,
   "metadata": {},
   "outputs": [],
   "source": [
    "# creating column \"plan_progress_40pc_date\" by adding plan_start_date and 40% of the plan_progress days \n",
    "# which is in the column plan_progress_40pc column. \n",
    "\n",
    "leap_in_df['plan_progress_40pc_date'] = \\\n",
    "[plan_start_date + pd.Timedelta(days=pc40_day) \\\n",
    "for plan_start_date, pc40_day in zip(leap_in_df['plan_start_date'],leap_in_df['plan_progress_40pc'])]\n",
    "\n"
   ]
  },
  {
   "cell_type": "markdown",
   "metadata": {},
   "source": [
    "### 7.2 Groupby \"leap_in_df\" on 'plan_key','l2_key','membership_number' and 'frequency' columns as \"leap_in_df_group\""
   ]
  },
  {
   "cell_type": "code",
   "execution_count": 594,
   "metadata": {},
   "outputs": [],
   "source": [
    "leap_in_df_group = leap_in_df.groupby(['plan_key','l2_key','membership_number','frequency'])"
   ]
  },
  {
   "cell_type": "markdown",
   "metadata": {},
   "source": [
    "#### checking each group with 'plan_key','l2_key','membership_number' and 'frequency' for manually varification purpose"
   ]
  },
  {
   "cell_type": "code",
   "execution_count": 595,
   "metadata": {},
   "outputs": [],
   "source": [
    "# group1 = leap_in_df_group.get_group(('00111a90-c7f4-11ea-b247-07c902e1140e',\\\n",
    "#                                      '7d0af53b-f597-11e9-bfb4-022d4762bb3c',14541707,\"Recurring\"))\\\n",
    "# [['plan_start_date','plan_end_date']]  \n",
    "\n",
    "# group1 = leap_in_df_group.get_group(('65396330-dce6-11ea-8cfb-59022ff97600',\\\n",
    "#                                      '7d0af5b1-f597-11e9-bfb4-022d4762bb3c',192127105,\"Either\"))\\\n",
    "# [['plan_start_date','plan_end_date']]   \n",
    "\n",
    "# group1 = leap_in_df_group.get_group(('b4f85630-b462-11ea-a898-85942aaecf99',\\\n",
    "#                                      '7d0af57b-f597-11e9-bfb4-022d4762bb3c',832922816,\"Either\"))\\\n",
    "# [['plan_start_date','plan_end_date']]   \n",
    "\n",
    "# group1 = leap_in_df_group.get_group(('b49c5840-d216-11ea-803a-6d3641cbf65d',\\\n",
    "#                                      '7d0af57b-f597-11e9-bfb4-022d4762bb3c',93782210,\"Either\"))\\\n",
    "# [['plan_start_date','plan_end_date','plan_period']] \n",
    "# group1                          "
   ]
  },
  {
   "cell_type": "markdown",
   "metadata": {},
   "source": [
    "### 7.2.1 Sum only those funded_amount where start_date <= plan_progress_40pc_date on grouped dataset \"leap_in_df_group\""
   ]
  },
  {
   "cell_type": "code",
   "execution_count": 596,
   "metadata": {},
   "outputs": [],
   "source": [
    "# Sum only those funded_amount column in each group based on the condition. which is adding only those invoice \n",
    "# amount which has occured till the 40% plan date. \n",
    "funded_amount_40pc = leap_in_df_group.apply(lambda group: group[group['start_date']<=group['plan_progress_40pc_date']]\\\n",
    "                                       ['funded_amount'].sum())\n"
   ]
  },
  {
   "cell_type": "code",
   "execution_count": 597,
   "metadata": {},
   "outputs": [],
   "source": [
    "# Processing the group series to extract a \"total_funded_amount_40pc\" series that contains sum of \n",
    "# funded amount only. \n",
    "\n",
    "funded_df =pd.DataFrame(funded_amount_40pc)\n",
    "total_funded_df =funded_df.reset_index()\n",
    "\n",
    "#Renaming the last column as \"total_funded_amount_40pc\"\n",
    "\n",
    "total_funded_df.rename(columns={total_funded_df.columns[4]:\"total_funded_amount_40pc\"}, inplace =True)"
   ]
  },
  {
   "cell_type": "markdown",
   "metadata": {},
   "source": [
    "### 7.2.2 Aggregiate the \"leap_in_df_group\" and add the new column \"total_funded_amount_40pc\""
   ]
  },
  {
   "cell_type": "code",
   "execution_count": 598,
   "metadata": {},
   "outputs": [],
   "source": [
    "leap_in_40pc_df_agg = leap_in_df_group.agg({'start_date' : 'first', 'end_date': 'first', 'funded_amount': 'first', \n",
    "        'units': 'first', 'l3_id': 'first',\n",
    "       'invoice_number': 'first', 'invoice_date': 'first', 'abn': 'first',\n",
    "       'l3_reference_number': 'first', 'l3_key': 'first', 'l3_name': 'first', 'l3_description': 'first',\n",
    "       'l2_reference_number': 'first', 'l2_name': 'first', 'l1_name': 'first', 'l1_id': 'first',\n",
    "        'plan_start_date': 'first', 'plan_end_date': 'first', 'member_key': 'first',\n",
    "       'allocation': 'first', 'Id': 'first', 'YOB': 'first', 'Disability': 'first', 'name': 'first', 'uom': 'first',\n",
    "       'registration_group': 'first', 'Postcode': 'first', 'plan_period': 'first',\n",
    "       'plan_progress_40pc': 'first', 'plan_progress_40pc_date': 'first'})"
   ]
  },
  {
   "cell_type": "code",
   "execution_count": 599,
   "metadata": {},
   "outputs": [],
   "source": [
    "# Converting leap_in_40pc_df_agg into pandas dataframe. \n",
    "leap_in_40pc_agg_df = leap_in_40pc_df_agg.reset_index()"
   ]
  },
  {
   "cell_type": "markdown",
   "metadata": {},
   "source": [
    "### 7.2.3 : finally merge \" total_funded_df \" and \"leap_in_40pc_agg_df\" and rearranging the columns as \"leap_in_40pc_df\"."
   ]
  },
  {
   "cell_type": "code",
   "execution_count": 600,
   "metadata": {},
   "outputs": [],
   "source": [
    "leap_in_40pc_df = pd.merge(leap_in_40pc_agg_df, total_funded_df, how = 'inner', \\\n",
    "                  on =['plan_key', 'l2_key','membership_number', 'frequency'])"
   ]
  },
  {
   "cell_type": "code",
   "execution_count": 601,
   "metadata": {},
   "outputs": [
    {
     "data": {
      "text/html": [
       "<div>\n",
       "<style scoped>\n",
       "    .dataframe tbody tr th:only-of-type {\n",
       "        vertical-align: middle;\n",
       "    }\n",
       "\n",
       "    .dataframe tbody tr th {\n",
       "        vertical-align: top;\n",
       "    }\n",
       "\n",
       "    .dataframe thead th {\n",
       "        text-align: right;\n",
       "    }\n",
       "</style>\n",
       "<table border=\"1\" class=\"dataframe\">\n",
       "  <thead>\n",
       "    <tr style=\"text-align: right;\">\n",
       "      <th></th>\n",
       "      <th>membership_number</th>\n",
       "      <th>total_funded_amount_40pc</th>\n",
       "      <th>allocation</th>\n",
       "      <th>plan_period</th>\n",
       "      <th>plan_progress_40pc</th>\n",
       "      <th>plan_progress_40pc_date</th>\n",
       "      <th>plan_start_date</th>\n",
       "      <th>plan_end_date</th>\n",
       "      <th>plan_key</th>\n",
       "      <th>l2_key</th>\n",
       "      <th>...</th>\n",
       "      <th>l1_name</th>\n",
       "      <th>l1_id</th>\n",
       "      <th>member_key</th>\n",
       "      <th>Id</th>\n",
       "      <th>YOB</th>\n",
       "      <th>Disability</th>\n",
       "      <th>name</th>\n",
       "      <th>uom</th>\n",
       "      <th>registration_group</th>\n",
       "      <th>Postcode</th>\n",
       "    </tr>\n",
       "  </thead>\n",
       "  <tbody>\n",
       "    <tr>\n",
       "      <th>2682</th>\n",
       "      <td>621981024</td>\n",
       "      <td>100.00</td>\n",
       "      <td>24597.46</td>\n",
       "      <td>320</td>\n",
       "      <td>128</td>\n",
       "      <td>2020-06-13</td>\n",
       "      <td>2020-02-06</td>\n",
       "      <td>2020-12-22</td>\n",
       "      <td>e6309a40-ddb7-11ea-8b25-0fa931eaa230</td>\n",
       "      <td>7d0af53b-f597-11e9-bfb4-022d4762bb3c</td>\n",
       "      <td>...</td>\n",
       "      <td>Core</td>\n",
       "      <td>1</td>\n",
       "      <td>dd33bad0-ddb7-11ea-a31a-7d25e47a5c0a</td>\n",
       "      <td>6645</td>\n",
       "      <td>1969.0</td>\n",
       "      <td>Cerebral palsy, Intellectual disability</td>\n",
       "      <td>Access Community, Social And Rec Activities - ...</td>\n",
       "      <td>H</td>\n",
       "      <td>Participation In Community, Social And Civic A...</td>\n",
       "      <td>4227</td>\n",
       "    </tr>\n",
       "    <tr>\n",
       "      <th>2974</th>\n",
       "      <td>945891017</td>\n",
       "      <td>6483.30</td>\n",
       "      <td>94732.05</td>\n",
       "      <td>98</td>\n",
       "      <td>39</td>\n",
       "      <td>2021-01-23</td>\n",
       "      <td>2020-12-15</td>\n",
       "      <td>2021-03-23</td>\n",
       "      <td>f97b219c-c170-456c-88c7-fb0a2df5e93e</td>\n",
       "      <td>7d0af53b-f597-11e9-bfb4-022d4762bb3c</td>\n",
       "      <td>...</td>\n",
       "      <td>Core</td>\n",
       "      <td>1</td>\n",
       "      <td>d4ddc6a0-dcef-11ea-a5ac-61abce895864</td>\n",
       "      <td>22067</td>\n",
       "      <td>1999.0</td>\n",
       "      <td>Arthrogryposis</td>\n",
       "      <td>Access Community, Social And Rec Activities - ...</td>\n",
       "      <td>H</td>\n",
       "      <td>Participation In Community, Social And Civic A...</td>\n",
       "      <td>4519</td>\n",
       "    </tr>\n",
       "    <tr>\n",
       "      <th>1360</th>\n",
       "      <td>616406367</td>\n",
       "      <td>0.00</td>\n",
       "      <td>15020.00</td>\n",
       "      <td>143</td>\n",
       "      <td>57</td>\n",
       "      <td>2020-05-23</td>\n",
       "      <td>2020-03-27</td>\n",
       "      <td>2020-08-17</td>\n",
       "      <td>b1af03e0-d238-11ea-8cf8-59259f9ae6fa</td>\n",
       "      <td>7d0af57b-f597-11e9-bfb4-022d4762bb3c</td>\n",
       "      <td>...</td>\n",
       "      <td>Capacity Building</td>\n",
       "      <td>3</td>\n",
       "      <td>afb3f730-d238-11ea-aed8-25028c760942</td>\n",
       "      <td>17537</td>\n",
       "      <td>1943.0</td>\n",
       "      <td>Tourette?s Syndrome, Obsessive Compulsive Diso...</td>\n",
       "      <td>Exercise Physiology</td>\n",
       "      <td>H</td>\n",
       "      <td>Exercise Physiology And Physical Wellbeing Act...</td>\n",
       "      <td>4171</td>\n",
       "    </tr>\n",
       "    <tr>\n",
       "      <th>850</th>\n",
       "      <td>614234487</td>\n",
       "      <td>0.00</td>\n",
       "      <td>125701.60</td>\n",
       "      <td>362</td>\n",
       "      <td>144</td>\n",
       "      <td>2019-08-05</td>\n",
       "      <td>2019-03-14</td>\n",
       "      <td>2020-03-10</td>\n",
       "      <td>667a6eb0-dce6-11ea-8cfb-59022ff97600</td>\n",
       "      <td>7d0af57b-f597-11e9-bfb4-022d4762bb3c</td>\n",
       "      <td>...</td>\n",
       "      <td>Capacity Building</td>\n",
       "      <td>3</td>\n",
       "      <td>5ddc2a00-dce6-11ea-812e-09cdf4382371</td>\n",
       "      <td>7968</td>\n",
       "      <td>1943.0</td>\n",
       "      <td>None</td>\n",
       "      <td>Individual Assessment, Therapy And/Or Training...</td>\n",
       "      <td>H</td>\n",
       "      <td>Therapeutic Supports</td>\n",
       "      <td>None</td>\n",
       "    </tr>\n",
       "    <tr>\n",
       "      <th>3048</th>\n",
       "      <td>368446000</td>\n",
       "      <td>11146.57</td>\n",
       "      <td>47926.15</td>\n",
       "      <td>360</td>\n",
       "      <td>144</td>\n",
       "      <td>2020-05-05</td>\n",
       "      <td>2019-12-13</td>\n",
       "      <td>2020-12-07</td>\n",
       "      <td>fba461b0-e52b-11ea-abc2-2bb0308caa66</td>\n",
       "      <td>7d0af53b-f597-11e9-bfb4-022d4762bb3c</td>\n",
       "      <td>...</td>\n",
       "      <td>Core</td>\n",
       "      <td>1</td>\n",
       "      <td>f1859780-e52b-11ea-aa27-0bababe260e0</td>\n",
       "      <td>7991</td>\n",
       "      <td>1943.0</td>\n",
       "      <td>None</td>\n",
       "      <td>Access Community, Social And Rec Activities - ...</td>\n",
       "      <td>H</td>\n",
       "      <td>Participation In Community, Social And Civic A...</td>\n",
       "      <td>None</td>\n",
       "    </tr>\n",
       "    <tr>\n",
       "      <th>1942</th>\n",
       "      <td>603558207</td>\n",
       "      <td>1858.09</td>\n",
       "      <td>76579.51</td>\n",
       "      <td>358</td>\n",
       "      <td>143</td>\n",
       "      <td>2020-07-25</td>\n",
       "      <td>2020-03-04</td>\n",
       "      <td>2021-02-25</td>\n",
       "      <td>c70fb3c0-d6d3-11ea-b1ee-87504086bf09</td>\n",
       "      <td>7d0af53b-f597-11e9-bfb4-022d4762bb3c</td>\n",
       "      <td>...</td>\n",
       "      <td>Core</td>\n",
       "      <td>1</td>\n",
       "      <td>c41cd990-d6d3-11ea-9cd1-f194648955a5</td>\n",
       "      <td>9275</td>\n",
       "      <td>1991.0</td>\n",
       "      <td>Adhd, , Bipolar</td>\n",
       "      <td>Access Community, Social And Rec Activities - ...</td>\n",
       "      <td>H</td>\n",
       "      <td>Participation In Community, Social And Civic A...</td>\n",
       "      <td>4156</td>\n",
       "    </tr>\n",
       "    <tr>\n",
       "      <th>1498</th>\n",
       "      <td>775792749</td>\n",
       "      <td>1210.01</td>\n",
       "      <td>32347.49</td>\n",
       "      <td>363</td>\n",
       "      <td>145</td>\n",
       "      <td>2019-08-13</td>\n",
       "      <td>2019-03-21</td>\n",
       "      <td>2020-03-18</td>\n",
       "      <td>b53c1ab0-d216-11ea-803a-6d3641cbf65d</td>\n",
       "      <td>7d0af57b-f597-11e9-bfb4-022d4762bb3c</td>\n",
       "      <td>...</td>\n",
       "      <td>Capacity Building</td>\n",
       "      <td>3</td>\n",
       "      <td>aece71a0-d216-11ea-bb54-b308798eda15</td>\n",
       "      <td>7485</td>\n",
       "      <td>2008.0</td>\n",
       "      <td>None</td>\n",
       "      <td>Exercise Physiology</td>\n",
       "      <td>H</td>\n",
       "      <td>Exercise Physiology And Physical Wellbeing Act...</td>\n",
       "      <td>4570</td>\n",
       "    </tr>\n",
       "    <tr>\n",
       "      <th>1547</th>\n",
       "      <td>868501949</td>\n",
       "      <td>1794.20</td>\n",
       "      <td>11306.24</td>\n",
       "      <td>351</td>\n",
       "      <td>140</td>\n",
       "      <td>2019-07-11</td>\n",
       "      <td>2019-02-21</td>\n",
       "      <td>2020-02-07</td>\n",
       "      <td>b659bfb0-d216-11ea-803a-6d3641cbf65d</td>\n",
       "      <td>7d0af57b-f597-11e9-bfb4-022d4762bb3c</td>\n",
       "      <td>...</td>\n",
       "      <td>Capacity Building</td>\n",
       "      <td>3</td>\n",
       "      <td>afe5d510-d216-11ea-bb54-b308798eda15</td>\n",
       "      <td>6626</td>\n",
       "      <td>1993.0</td>\n",
       "      <td>Autism spectrum disorder (ASD)</td>\n",
       "      <td>Individual Assessment, Therapy And/Or Training...</td>\n",
       "      <td>H</td>\n",
       "      <td>Therapeutic Supports</td>\n",
       "      <td>2213</td>\n",
       "    </tr>\n",
       "    <tr>\n",
       "      <th>1611</th>\n",
       "      <td>245930691</td>\n",
       "      <td>378.56</td>\n",
       "      <td>20268.48</td>\n",
       "      <td>343</td>\n",
       "      <td>137</td>\n",
       "      <td>2019-02-03</td>\n",
       "      <td>2018-09-19</td>\n",
       "      <td>2019-08-28</td>\n",
       "      <td>b8b45aa0-d50d-11ea-a941-f79507f5b8c8</td>\n",
       "      <td>7d0af57b-f597-11e9-bfb4-022d4762bb3c</td>\n",
       "      <td>...</td>\n",
       "      <td>Capacity Building</td>\n",
       "      <td>3</td>\n",
       "      <td>afd0cf90-d50d-11ea-8224-836b70d82925</td>\n",
       "      <td>3226</td>\n",
       "      <td>1929.0</td>\n",
       "      <td>Down syndrome</td>\n",
       "      <td>Individual Assessment, Therapy And/Or Training...</td>\n",
       "      <td>H</td>\n",
       "      <td>Therapeutic Supports</td>\n",
       "      <td>4161</td>\n",
       "    </tr>\n",
       "    <tr>\n",
       "      <th>450</th>\n",
       "      <td>355521543</td>\n",
       "      <td>0.00</td>\n",
       "      <td>104320.90</td>\n",
       "      <td>69</td>\n",
       "      <td>27</td>\n",
       "      <td>2020-12-30</td>\n",
       "      <td>2020-12-03</td>\n",
       "      <td>2021-02-10</td>\n",
       "      <td>4c977b74-b1aa-4998-9e13-8d6898e06f34</td>\n",
       "      <td>7d0af53b-f597-11e9-bfb4-022d4762bb3c</td>\n",
       "      <td>...</td>\n",
       "      <td>Core</td>\n",
       "      <td>1</td>\n",
       "      <td>669cb5d0-593f-11eb-8206-71a1145ebd06</td>\n",
       "      <td>28400</td>\n",
       "      <td>1992.0</td>\n",
       "      <td>None</td>\n",
       "      <td>Access Community, Social And Rec Activities - ...</td>\n",
       "      <td>H</td>\n",
       "      <td>Participation In Community, Social And Civic A...</td>\n",
       "      <td>2641</td>\n",
       "    </tr>\n",
       "  </tbody>\n",
       "</table>\n",
       "<p>10 rows × 35 columns</p>\n",
       "</div>"
      ],
      "text/plain": [
       "      membership_number  total_funded_amount_40pc  allocation  plan_period  \\\n",
       "2682          621981024                    100.00    24597.46          320   \n",
       "2974          945891017                   6483.30    94732.05           98   \n",
       "1360          616406367                      0.00    15020.00          143   \n",
       "850           614234487                      0.00   125701.60          362   \n",
       "3048          368446000                  11146.57    47926.15          360   \n",
       "1942          603558207                   1858.09    76579.51          358   \n",
       "1498          775792749                   1210.01    32347.49          363   \n",
       "1547          868501949                   1794.20    11306.24          351   \n",
       "1611          245930691                    378.56    20268.48          343   \n",
       "450           355521543                      0.00   104320.90           69   \n",
       "\n",
       "      plan_progress_40pc plan_progress_40pc_date plan_start_date  \\\n",
       "2682                 128              2020-06-13      2020-02-06   \n",
       "2974                  39              2021-01-23      2020-12-15   \n",
       "1360                  57              2020-05-23      2020-03-27   \n",
       "850                  144              2019-08-05      2019-03-14   \n",
       "3048                 144              2020-05-05      2019-12-13   \n",
       "1942                 143              2020-07-25      2020-03-04   \n",
       "1498                 145              2019-08-13      2019-03-21   \n",
       "1547                 140              2019-07-11      2019-02-21   \n",
       "1611                 137              2019-02-03      2018-09-19   \n",
       "450                   27              2020-12-30      2020-12-03   \n",
       "\n",
       "     plan_end_date                              plan_key  \\\n",
       "2682    2020-12-22  e6309a40-ddb7-11ea-8b25-0fa931eaa230   \n",
       "2974    2021-03-23  f97b219c-c170-456c-88c7-fb0a2df5e93e   \n",
       "1360    2020-08-17  b1af03e0-d238-11ea-8cf8-59259f9ae6fa   \n",
       "850     2020-03-10  667a6eb0-dce6-11ea-8cfb-59022ff97600   \n",
       "3048    2020-12-07  fba461b0-e52b-11ea-abc2-2bb0308caa66   \n",
       "1942    2021-02-25  c70fb3c0-d6d3-11ea-b1ee-87504086bf09   \n",
       "1498    2020-03-18  b53c1ab0-d216-11ea-803a-6d3641cbf65d   \n",
       "1547    2020-02-07  b659bfb0-d216-11ea-803a-6d3641cbf65d   \n",
       "1611    2019-08-28  b8b45aa0-d50d-11ea-a941-f79507f5b8c8   \n",
       "450     2021-02-10  4c977b74-b1aa-4998-9e13-8d6898e06f34   \n",
       "\n",
       "                                    l2_key  ...            l1_name l1_id  \\\n",
       "2682  7d0af53b-f597-11e9-bfb4-022d4762bb3c  ...               Core     1   \n",
       "2974  7d0af53b-f597-11e9-bfb4-022d4762bb3c  ...               Core     1   \n",
       "1360  7d0af57b-f597-11e9-bfb4-022d4762bb3c  ...  Capacity Building     3   \n",
       "850   7d0af57b-f597-11e9-bfb4-022d4762bb3c  ...  Capacity Building     3   \n",
       "3048  7d0af53b-f597-11e9-bfb4-022d4762bb3c  ...               Core     1   \n",
       "1942  7d0af53b-f597-11e9-bfb4-022d4762bb3c  ...               Core     1   \n",
       "1498  7d0af57b-f597-11e9-bfb4-022d4762bb3c  ...  Capacity Building     3   \n",
       "1547  7d0af57b-f597-11e9-bfb4-022d4762bb3c  ...  Capacity Building     3   \n",
       "1611  7d0af57b-f597-11e9-bfb4-022d4762bb3c  ...  Capacity Building     3   \n",
       "450   7d0af53b-f597-11e9-bfb4-022d4762bb3c  ...               Core     1   \n",
       "\n",
       "                                member_key     Id     YOB  \\\n",
       "2682  dd33bad0-ddb7-11ea-a31a-7d25e47a5c0a   6645  1969.0   \n",
       "2974  d4ddc6a0-dcef-11ea-a5ac-61abce895864  22067  1999.0   \n",
       "1360  afb3f730-d238-11ea-aed8-25028c760942  17537  1943.0   \n",
       "850   5ddc2a00-dce6-11ea-812e-09cdf4382371   7968  1943.0   \n",
       "3048  f1859780-e52b-11ea-aa27-0bababe260e0   7991  1943.0   \n",
       "1942  c41cd990-d6d3-11ea-9cd1-f194648955a5   9275  1991.0   \n",
       "1498  aece71a0-d216-11ea-bb54-b308798eda15   7485  2008.0   \n",
       "1547  afe5d510-d216-11ea-bb54-b308798eda15   6626  1993.0   \n",
       "1611  afd0cf90-d50d-11ea-8224-836b70d82925   3226  1929.0   \n",
       "450   669cb5d0-593f-11eb-8206-71a1145ebd06  28400  1992.0   \n",
       "\n",
       "                                             Disability  \\\n",
       "2682            Cerebral palsy, Intellectual disability   \n",
       "2974                                     Arthrogryposis   \n",
       "1360  Tourette?s Syndrome, Obsessive Compulsive Diso...   \n",
       "850                                                None   \n",
       "3048                                               None   \n",
       "1942                                    Adhd, , Bipolar   \n",
       "1498                                               None   \n",
       "1547                     Autism spectrum disorder (ASD)   \n",
       "1611                                      Down syndrome   \n",
       "450                                                None   \n",
       "\n",
       "                                                   name uom  \\\n",
       "2682  Access Community, Social And Rec Activities - ...   H   \n",
       "2974  Access Community, Social And Rec Activities - ...   H   \n",
       "1360                                Exercise Physiology   H   \n",
       "850   Individual Assessment, Therapy And/Or Training...   H   \n",
       "3048  Access Community, Social And Rec Activities - ...   H   \n",
       "1942  Access Community, Social And Rec Activities - ...   H   \n",
       "1498                                Exercise Physiology   H   \n",
       "1547  Individual Assessment, Therapy And/Or Training...   H   \n",
       "1611  Individual Assessment, Therapy And/Or Training...   H   \n",
       "450   Access Community, Social And Rec Activities - ...   H   \n",
       "\n",
       "                                     registration_group Postcode  \n",
       "2682  Participation In Community, Social And Civic A...     4227  \n",
       "2974  Participation In Community, Social And Civic A...     4519  \n",
       "1360  Exercise Physiology And Physical Wellbeing Act...     4171  \n",
       "850                                Therapeutic Supports     None  \n",
       "3048  Participation In Community, Social And Civic A...     None  \n",
       "1942  Participation In Community, Social And Civic A...     4156  \n",
       "1498  Exercise Physiology And Physical Wellbeing Act...     4570  \n",
       "1547                               Therapeutic Supports     2213  \n",
       "1611                               Therapeutic Supports     4161  \n",
       "450   Participation In Community, Social And Civic A...     2641  \n",
       "\n",
       "[10 rows x 35 columns]"
      ]
     },
     "execution_count": 601,
     "metadata": {},
     "output_type": "execute_result"
    }
   ],
   "source": [
    "# Rearranging the columns just for convenient purpose.\n",
    "rearrange_columns_name = ['membership_number','total_funded_amount_40pc','allocation','plan_period','plan_progress_40pc',\n",
    "                     'plan_progress_40pc_date', 'plan_start_date', 'plan_end_date','plan_key','l2_key','frequency', 'start_date',\n",
    "                       'end_date', 'funded_amount', 'units', 'l3_id', 'invoice_number',\n",
    "                       'invoice_date', 'abn', 'l3_reference_number', 'l3_key', 'l3_name',\n",
    "                       'l3_description', 'l2_reference_number', 'l2_name', 'l1_name', 'l1_id','member_key',  'Id',  \n",
    "                       'YOB', 'Disability', 'name', 'uom', 'registration_group', 'Postcode']\n",
    "\n",
    "leap_in_40pc_df = leap_in_40pc_df.reindex(columns = rearrange_columns_name)\n",
    "leap_in_40pc_df.sample(10)\n"
   ]
  },
  {
   "cell_type": "markdown",
   "metadata": {},
   "source": [
    "# 7.3 : Creating final column \" spending_behaviour \" on dataframe \"leap_in_40pc_df\". \n",
    "\n",
    "### leap_in_40pc_df is the data of a member per plan_key, per l2_key and per frequency. \n",
    "\n",
    "#### <i>Regular = Recurring and Episodic = Either </i>\n",
    "#### <i>Total spent for category = total_funded_amount_40pc</i>\n",
    "#### <i>Ratio spent to plan progress = (total_funded_amount_40pc/allocation)/(plan_progress_40pc/plan_period)</i>\n",
    "\n"
   ]
  },
  {
   "cell_type": "code",
   "execution_count": 602,
   "metadata": {},
   "outputs": [],
   "source": [
    "# defining the variables ratio_spent and plan_progress \n",
    "ratio_spent = leap_in_40pc_df['total_funded_amount_40pc']/leap_in_40pc_df['allocation']\n",
    "plan_progress = leap_in_40pc_df['plan_progress_40pc']/leap_in_40pc_df['plan_period']\n",
    "\n",
    "# code to execute the following conditions with use of above variables.\n",
    "\n",
    "category_conditions = [\n",
    "    ((leap_in_40pc_df['frequency']=='Recurring') & (leap_in_40pc_df['total_funded_amount_40pc']== 0)),\n",
    "    ((leap_in_40pc_df['frequency']=='Recurring') & (leap_in_40pc_df['total_funded_amount_40pc']==leap_in_40pc_df['allocation'])),\n",
    "    ((leap_in_40pc_df['frequency']=='Recurring') & (ratio_spent/plan_progress > 1.15)),\n",
    "    ((leap_in_40pc_df['frequency']=='Recurring') & (ratio_spent/plan_progress < 0.85)),\n",
    "    leap_in_40pc_df['frequency']=='Recurring', \n",
    "    ((leap_in_40pc_df['frequency']=='Either') & (leap_in_40pc_df['total_funded_amount_40pc']==leap_in_40pc_df['allocation'])),\n",
    "    ((leap_in_40pc_df['frequency']=='Either') & (leap_in_40pc_df['total_funded_amount_40pc']==0)),\n",
    "    leap_in_40pc_df['frequency']=='Either'\n",
    "]\n",
    "# Choices in the same order as the conditions\n",
    "spending_behaviours = [\n",
    "    'Not Activated', \n",
    "    'All Spent(Recurring)', \n",
    "    'Over Spent' , \n",
    "    'Under Spent', \n",
    "    'On Track' ,\n",
    "    'All Spent(Either)',\n",
    "    'None Spent', \n",
    "    'Some Spent'\n",
    "]\n",
    "\n",
    "\n",
    "leap_in_40pc_df['spending_behaviour'] = np.select(category_conditions, spending_behaviours, \"Default\")"
   ]
  },
  {
   "cell_type": "code",
   "execution_count": 603,
   "metadata": {
    "scrolled": true
   },
   "outputs": [
    {
     "data": {
      "text/html": [
       "<div>\n",
       "<style scoped>\n",
       "    .dataframe tbody tr th:only-of-type {\n",
       "        vertical-align: middle;\n",
       "    }\n",
       "\n",
       "    .dataframe tbody tr th {\n",
       "        vertical-align: top;\n",
       "    }\n",
       "\n",
       "    .dataframe thead th {\n",
       "        text-align: right;\n",
       "    }\n",
       "</style>\n",
       "<table border=\"1\" class=\"dataframe\">\n",
       "  <thead>\n",
       "    <tr style=\"text-align: right;\">\n",
       "      <th></th>\n",
       "      <th>membership_number</th>\n",
       "      <th>total_funded_amount_40pc</th>\n",
       "      <th>allocation</th>\n",
       "      <th>plan_period</th>\n",
       "      <th>plan_progress_40pc</th>\n",
       "      <th>plan_progress_40pc_date</th>\n",
       "      <th>plan_start_date</th>\n",
       "      <th>plan_end_date</th>\n",
       "      <th>plan_key</th>\n",
       "      <th>l2_key</th>\n",
       "      <th>...</th>\n",
       "      <th>l1_id</th>\n",
       "      <th>member_key</th>\n",
       "      <th>Id</th>\n",
       "      <th>YOB</th>\n",
       "      <th>Disability</th>\n",
       "      <th>name</th>\n",
       "      <th>uom</th>\n",
       "      <th>registration_group</th>\n",
       "      <th>Postcode</th>\n",
       "      <th>spending_behaviour</th>\n",
       "    </tr>\n",
       "  </thead>\n",
       "  <tbody>\n",
       "    <tr>\n",
       "      <th>2497</th>\n",
       "      <td>179451880</td>\n",
       "      <td>0.00</td>\n",
       "      <td>38535.30</td>\n",
       "      <td>383</td>\n",
       "      <td>153</td>\n",
       "      <td>2020-04-06</td>\n",
       "      <td>2019-11-05</td>\n",
       "      <td>2020-11-22</td>\n",
       "      <td>e2e0fa60-c179-11ea-8daf-e7e742291ebd</td>\n",
       "      <td>7d0af53b-f597-11e9-bfb4-022d4762bb3c</td>\n",
       "      <td>...</td>\n",
       "      <td>1</td>\n",
       "      <td>de2742e0-c179-11ea-8a11-397bdc21f5a9</td>\n",
       "      <td>16516</td>\n",
       "      <td>1924.0</td>\n",
       "      <td>None</td>\n",
       "      <td>Access Community, Social And Rec Activities - ...</td>\n",
       "      <td>H</td>\n",
       "      <td>Participation In Community, Social And Civic A...</td>\n",
       "      <td>4508</td>\n",
       "      <td>Not Activated</td>\n",
       "    </tr>\n",
       "    <tr>\n",
       "      <th>594</th>\n",
       "      <td>647616311</td>\n",
       "      <td>358.52</td>\n",
       "      <td>8781.85</td>\n",
       "      <td>137</td>\n",
       "      <td>54</td>\n",
       "      <td>2019-09-18</td>\n",
       "      <td>2019-07-26</td>\n",
       "      <td>2019-12-10</td>\n",
       "      <td>6298a0a0-dce6-11ea-8cfb-59022ff97600</td>\n",
       "      <td>7d0af57b-f597-11e9-bfb4-022d4762bb3c</td>\n",
       "      <td>...</td>\n",
       "      <td>3</td>\n",
       "      <td>5aa716b0-dce6-11ea-812e-09cdf4382371</td>\n",
       "      <td>6785</td>\n",
       "      <td>1921.0</td>\n",
       "      <td>None</td>\n",
       "      <td>Individual Assessment, Therapy And/Or Training...</td>\n",
       "      <td>H</td>\n",
       "      <td>Therapeutic Supports</td>\n",
       "      <td>4650</td>\n",
       "      <td>Some Spent</td>\n",
       "    </tr>\n",
       "    <tr>\n",
       "      <th>788</th>\n",
       "      <td>383206637</td>\n",
       "      <td>850.00</td>\n",
       "      <td>13621.56</td>\n",
       "      <td>365</td>\n",
       "      <td>146</td>\n",
       "      <td>2020-05-12</td>\n",
       "      <td>2019-12-18</td>\n",
       "      <td>2020-12-17</td>\n",
       "      <td>65aa6340-d20b-11ea-9ae5-59f9297fc5f9</td>\n",
       "      <td>7d0af57b-f597-11e9-bfb4-022d4762bb3c</td>\n",
       "      <td>...</td>\n",
       "      <td>3</td>\n",
       "      <td>63677820-d20b-11ea-ae84-0545f282cdcb</td>\n",
       "      <td>5341</td>\n",
       "      <td>1944.0</td>\n",
       "      <td>None</td>\n",
       "      <td>Therapy Assistant - Level 2</td>\n",
       "      <td>H</td>\n",
       "      <td>Therapeutic Supports</td>\n",
       "      <td>None</td>\n",
       "      <td>Some Spent</td>\n",
       "    </tr>\n",
       "    <tr>\n",
       "      <th>1369</th>\n",
       "      <td>284215772</td>\n",
       "      <td>4220.30</td>\n",
       "      <td>73622.56</td>\n",
       "      <td>383</td>\n",
       "      <td>153</td>\n",
       "      <td>2020-08-18</td>\n",
       "      <td>2020-03-18</td>\n",
       "      <td>2021-04-05</td>\n",
       "      <td>b20cd3c0-d216-11ea-803a-6d3641cbf65d</td>\n",
       "      <td>7d0af53b-f597-11e9-bfb4-022d4762bb3c</td>\n",
       "      <td>...</td>\n",
       "      <td>1</td>\n",
       "      <td>af908920-d216-11ea-bb54-b308798eda15</td>\n",
       "      <td>7531</td>\n",
       "      <td>1933.0</td>\n",
       "      <td>Schizoaffective disorder</td>\n",
       "      <td>Access Community, Social And Rec Activities - ...</td>\n",
       "      <td>H</td>\n",
       "      <td>Participation In Community, Social And Civic A...</td>\n",
       "      <td>3199</td>\n",
       "      <td>Under Spent</td>\n",
       "    </tr>\n",
       "    <tr>\n",
       "      <th>1309</th>\n",
       "      <td>805400487</td>\n",
       "      <td>22.00</td>\n",
       "      <td>271923.71</td>\n",
       "      <td>364</td>\n",
       "      <td>145</td>\n",
       "      <td>2020-04-06</td>\n",
       "      <td>2019-11-13</td>\n",
       "      <td>2020-11-11</td>\n",
       "      <td>aacb7b70-d220-11ea-90b0-473ddd03d6bc</td>\n",
       "      <td>7d0af52b-f597-11e9-bfb4-022d4762bb3c</td>\n",
       "      <td>...</td>\n",
       "      <td>1</td>\n",
       "      <td>a6ef0490-d220-11ea-b70a-d17e589b1829</td>\n",
       "      <td>9012</td>\n",
       "      <td>1961.0</td>\n",
       "      <td>None</td>\n",
       "      <td>Specialised Transport To School/Educational Fa...</td>\n",
       "      <td>D</td>\n",
       "      <td>Assistance With Travel/Transport Arrangements</td>\n",
       "      <td>3630</td>\n",
       "      <td>Some Spent</td>\n",
       "    </tr>\n",
       "  </tbody>\n",
       "</table>\n",
       "<p>5 rows × 36 columns</p>\n",
       "</div>"
      ],
      "text/plain": [
       "      membership_number  total_funded_amount_40pc  allocation  plan_period  \\\n",
       "2497          179451880                      0.00    38535.30          383   \n",
       "594           647616311                    358.52     8781.85          137   \n",
       "788           383206637                    850.00    13621.56          365   \n",
       "1369          284215772                   4220.30    73622.56          383   \n",
       "1309          805400487                     22.00   271923.71          364   \n",
       "\n",
       "      plan_progress_40pc plan_progress_40pc_date plan_start_date  \\\n",
       "2497                 153              2020-04-06      2019-11-05   \n",
       "594                   54              2019-09-18      2019-07-26   \n",
       "788                  146              2020-05-12      2019-12-18   \n",
       "1369                 153              2020-08-18      2020-03-18   \n",
       "1309                 145              2020-04-06      2019-11-13   \n",
       "\n",
       "     plan_end_date                              plan_key  \\\n",
       "2497    2020-11-22  e2e0fa60-c179-11ea-8daf-e7e742291ebd   \n",
       "594     2019-12-10  6298a0a0-dce6-11ea-8cfb-59022ff97600   \n",
       "788     2020-12-17  65aa6340-d20b-11ea-9ae5-59f9297fc5f9   \n",
       "1369    2021-04-05  b20cd3c0-d216-11ea-803a-6d3641cbf65d   \n",
       "1309    2020-11-11  aacb7b70-d220-11ea-90b0-473ddd03d6bc   \n",
       "\n",
       "                                    l2_key  ... l1_id  \\\n",
       "2497  7d0af53b-f597-11e9-bfb4-022d4762bb3c  ...     1   \n",
       "594   7d0af57b-f597-11e9-bfb4-022d4762bb3c  ...     3   \n",
       "788   7d0af57b-f597-11e9-bfb4-022d4762bb3c  ...     3   \n",
       "1369  7d0af53b-f597-11e9-bfb4-022d4762bb3c  ...     1   \n",
       "1309  7d0af52b-f597-11e9-bfb4-022d4762bb3c  ...     1   \n",
       "\n",
       "                                member_key     Id     YOB  \\\n",
       "2497  de2742e0-c179-11ea-8a11-397bdc21f5a9  16516  1924.0   \n",
       "594   5aa716b0-dce6-11ea-812e-09cdf4382371   6785  1921.0   \n",
       "788   63677820-d20b-11ea-ae84-0545f282cdcb   5341  1944.0   \n",
       "1369  af908920-d216-11ea-bb54-b308798eda15   7531  1933.0   \n",
       "1309  a6ef0490-d220-11ea-b70a-d17e589b1829   9012  1961.0   \n",
       "\n",
       "                    Disability  \\\n",
       "2497                      None   \n",
       "594                       None   \n",
       "788                       None   \n",
       "1369  Schizoaffective disorder   \n",
       "1309                      None   \n",
       "\n",
       "                                                   name uom  \\\n",
       "2497  Access Community, Social And Rec Activities - ...   H   \n",
       "594   Individual Assessment, Therapy And/Or Training...   H   \n",
       "788                         Therapy Assistant - Level 2   H   \n",
       "1369  Access Community, Social And Rec Activities - ...   H   \n",
       "1309  Specialised Transport To School/Educational Fa...   D   \n",
       "\n",
       "                                     registration_group  Postcode  \\\n",
       "2497  Participation In Community, Social And Civic A...      4508   \n",
       "594                                Therapeutic Supports      4650   \n",
       "788                                Therapeutic Supports      None   \n",
       "1369  Participation In Community, Social And Civic A...      3199   \n",
       "1309      Assistance With Travel/Transport Arrangements      3630   \n",
       "\n",
       "     spending_behaviour  \n",
       "2497      Not Activated  \n",
       "594          Some Spent  \n",
       "788          Some Spent  \n",
       "1369        Under Spent  \n",
       "1309         Some Spent  \n",
       "\n",
       "[5 rows x 36 columns]"
      ]
     },
     "execution_count": 603,
     "metadata": {},
     "output_type": "execute_result"
    }
   ],
   "source": [
    "# Printing some random value \n",
    "leap_in_40pc_df.sample(5)\n",
    "\n"
   ]
  },
  {
   "cell_type": "code",
   "execution_count": 604,
   "metadata": {},
   "outputs": [
    {
     "data": {
      "text/plain": [
       "(3131, 36)"
      ]
     },
     "execution_count": 604,
     "metadata": {},
     "output_type": "execute_result"
    }
   ],
   "source": [
    "# Checking the shape\n",
    "leap_in_40pc_df.shape"
   ]
  },
  {
   "cell_type": "code",
   "execution_count": 605,
   "metadata": {},
   "outputs": [
    {
     "data": {
      "text/plain": [
       "Under Spent          1189\n",
       "Some Spent           1185\n",
       "None Spent            463\n",
       "Not Activated         268\n",
       "Over Spent             14\n",
       "On Track               11\n",
       "All Spent(Either)       1\n",
       "Name: spending_behaviour, dtype: int64"
      ]
     },
     "execution_count": 605,
     "metadata": {},
     "output_type": "execute_result"
    }
   ],
   "source": [
    "# counting the number of each behaviours.\n",
    "leap_in_40pc_df.spending_behaviour.value_counts()"
   ]
  },
  {
   "cell_type": "code",
   "execution_count": 606,
   "metadata": {},
   "outputs": [],
   "source": [
    "# Exporting the dataframe to csv file to path provided. \n",
    "# leap_in_40pc_df.to_csv(r'/Users/ajaymoktan/Desktop/IFN711/Leap in Merg/leap_in_40pc_df.csv')"
   ]
  }
 ],
 "metadata": {
  "kernelspec": {
   "display_name": "Python 3",
   "language": "python",
   "name": "python3"
  },
  "language_info": {
   "codemirror_mode": {
    "name": "ipython",
    "version": 3
   },
   "file_extension": ".py",
   "mimetype": "text/x-python",
   "name": "python",
   "nbconvert_exporter": "python",
   "pygments_lexer": "ipython3",
   "version": "3.7.6"
  }
 },
 "nbformat": 4,
 "nbformat_minor": 4
}
